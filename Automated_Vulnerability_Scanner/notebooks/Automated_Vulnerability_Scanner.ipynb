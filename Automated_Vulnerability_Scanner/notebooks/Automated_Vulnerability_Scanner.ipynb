{
 "cells": [
  {
   "cell_type": "markdown",
   "id": "a92c733c-94d3-491d-a824-eaaeab8f74ed",
   "metadata": {},
   "source": [
    "# Automated Vulnerability Scanner for Security Operations\n",
    "\n",
    "This Jupyter Notebook is the development environment for my CYB 333 course project. It is used to automate the process of identifying open ports on network hosts, collect vulnerability data, and analyze results using Python-based tools. This notebook demonstrates how Jupyter supports cybersecurity automation through code execution, documentation, and visualization."
   ]
  },
  {
   "cell_type": "code",
   "execution_count": 1,
   "id": "1c809d0b-77ed-46d5-954d-551bca47d926",
   "metadata": {},
   "outputs": [
    {
     "name": "stdout",
     "output_type": "stream",
     "text": [
      "Python version: 3.10.19 | packaged by conda-forge | (main, Oct 13 2025, 14:05:01) [MSC v.1944 64 bit (AMD64)]\n",
      "Platform: Windows 10\n",
      "Requests library version: 2.32.5\n",
      "Environment successfully initialized for security automation.\n"
     ]
    }
   ],
   "source": [
    "# Environment verification and library import\n",
    "import sys\n",
    "import platform\n",
    "import requests\n",
    "import json\n",
    "\n",
    "print(\"Python version:\", sys.version)\n",
    "print(\"Platform:\", platform.system(), platform.release())\n",
    "print(\"Requests library version:\", requests.__version__)\n",
    "print(\"Environment successfully initialized for security automation.\")"
   ]
  },
  {
   "cell_type": "markdown",
   "id": "64668102-e421-4498-a487-307417376cc6",
   "metadata": {},
   "source": [
    "## Project Workflow Overview\n",
    "\n",
    "This notebook follows an iterative security automation workflow aligned with Week 3 course materials on Jupyter Notebooks:\n",
    "\n",
    "1. **Data Collection:** Retrieve information from network hosts using Python-based scanning techniques.\n",
    "2. **Preprocessing:** Structure and normalize the scanned results for analysis.\n",
    "3. **Analysis & Visualization:** Identify potentially vulnerable services and visualize findings using charts.\n",
    "4. **Reporting & Documentation:** Export results and document findings for security operations and remediation actions.\n",
    "\n",
    "This demonstrates how Jupyter Notebooks support real-time analysis, iterative testing, and transparency in cybersecurity workflows."
   ]
  },
  {
   "cell_type": "markdown",
   "id": "6dc4d100-c223-40c6-8bfb-2044252e3a64",
   "metadata": {},
   "source": [
    "## Development Milestone – October 19, 2025\n",
    "\n",
    "Today marks the initialization of the development phase for the Automated Vulnerability Scanner project. The environment has been successfully configured, project workflow has been defined, and the notebook has been prepared to begin implementing security automation functions in the next phase."
   ]
  },
  {
   "cell_type": "code",
   "execution_count": 2,
   "id": "99048b24-6e7f-4ae4-ac31-d84d721a5837",
   "metadata": {},
   "outputs": [
    {
     "name": "stdout",
     "output_type": "stream",
     "text": [
      "Scanning host: 192.168.1.10\n",
      "Scan Results: {'host': '192.168.1.10', 'status': 'up', 'open_ports': [22, 80, 443], 'message': 'Simulated scan complete. Real scan functionality to be implemented next.'}\n"
     ]
    }
   ],
   "source": [
    "# Placeholder function to simulate network scanning\n",
    "def scan_host(ip_address):\n",
    "    # In the full implementation, this function will perform real Nmap or socket-based scans.\n",
    "    # For now, it simulates an open port response for demonstration purposes.\n",
    "    print(f\"Scanning host: {ip_address}\")\n",
    "    simulated_results = {\n",
    "        \"host\": ip_address,\n",
    "        \"status\": \"up\",\n",
    "        \"open_ports\": [22, 80, 443],\n",
    "        \"message\": \"Simulated scan complete. Real scan functionality to be implemented next.\"\n",
    "    }\n",
    "    return simulated_results\n",
    "\n",
    "# Test the placeholder function\n",
    "test_result = scan_host(\"192.168.1.10\")\n",
    "print(\"Scan Results:\", test_result)"
   ]
  },
  {
   "cell_type": "markdown",
   "id": "f0e4b2a9-7fe6-4082-b87c-e6ee7a4247dd",
   "metadata": {},
   "source": [
    "## Milestone: Initial Scanning Function Implemented\n",
    "\n",
    "The first development function has been implemented to simulate scanning a host for open ports. While this is a placeholder demonstration, it establishes the core logic structure that will be expanded to perform real network scans using libraries such as `python-nmap` and `socket`. This marks the official beginning of the development phase for the automated vulnerability scanner."
   ]
  },
  {
   "cell_type": "code",
   "execution_count": 2,
   "id": "b97d1219-1e34-41cc-affe-234b67e15dea",
   "metadata": {},
   "outputs": [
    {
     "name": "stdout",
     "output_type": "stream",
     "text": [
      "Running safe nmap scan against 127.0.0.1 (localhost)...\n",
      "Real scan output (sample):\n",
      "{'addresses': {'ipv4': '127.0.0.1'},\n",
      " 'hostnames': [{'name': 'activate.adobe.com', 'type': 'PTR'}],\n",
      " 'status': {'reason': 'user-set', 'state': 'up'},\n",
      " 'tcp': {135: {'conf': '3',\n",
      "               'cpe': '',\n",
      "               'extrainfo': '',\n",
      "               'name': 'msrpc',\n",
      "               'product': '',\n",
      "               'reason': 'syn-ack',\n",
      "               'state': 'open',\n",
      "               'version': ''},\n",
      "         445: {'conf': '3',\n",
      "               'cpe': '',\n",
      "               'extrainfo': '',\n",
      "               'name': 'microsoft-ds',\n",
      "               'product': '',\n",
      "               'reason': 'syn-ack',\n",
      "               'state': 'open',\n",
      "               'version': ''},\n",
      "         2179: {'conf': '3',\n",
      "                'cpe': '',\n",
      "                'extrainfo': '',\n",
      "                'name': 'vmrdp',\n",
      "                'product': '',\n",
      "                'reason': 'syn-ack',\n",
      "                'state': 'open',\n",
      "                'version': ''},\n",
      "         5357: {'conf': '3',\n",
      "                'cpe': '',\n",
      "                'extrainfo': '',\n",
      "                'name': 'wsdapi',\n",
      "                'product': '',\n",
      "                'reason': 'syn-ack',\n",
      "                'state': 'open',\n",
      "                'version': ''},\n",
      "         8888: {'conf': '3',\n",
      "                'cpe': '',\n",
      "                'extrainfo': '',\n",
      "                'name': 'sun-answerbook',\n",
      "                'product': '',\n",
      "                'reason': 'syn-ack',\n",
      "                'state': 'open',\n",
      "                'version': ''},\n",
      "         16992: {'conf': '3',\n",
      "                 'cpe': '',\n",
      "                 'extrainfo': '',\n",
      "                 'name': 'amt-soap-http',\n",
      "                 'product': '',\n",
      "                 'reason': 'syn-ack',\n",
      "                 'state': 'open',\n",
      "                 'version': ''}},\n",
      " 'vendor': {}}\n"
     ]
    }
   ],
   "source": [
    "# Real safe localhost scan using python-nmap (with fallback)\n",
    "import json\n",
    "from pprint import pprint\n",
    "\n",
    "def real_scan_localhost():\n",
    "    try:\n",
    "        import nmap  # python-nmap\n",
    "    except Exception as e:\n",
    "        print(\"python-nmap not available in this kernel:\", e)\n",
    "        return None\n",
    "\n",
    "    scanner = nmap.PortScanner()\n",
    "    target = \"127.0.0.1\"\n",
    "    print(f\"Running safe nmap scan against {target} (localhost)...\")\n",
    "    try:\n",
    "        # -sT uses TCP connect scan (works without raw sockets privileges)\n",
    "        scanner.scan(hosts=target, arguments='-sT -Pn -T4')\n",
    "        if target in scanner.all_hosts():\n",
    "            result = scanner[target]\n",
    "            return result\n",
    "        else:\n",
    "            print(\"No host information found in scanner result.\")\n",
    "            return None\n",
    "    except Exception as exc:\n",
    "        print(\"Nmap scan failed:\", exc)\n",
    "        return None\n",
    "\n",
    "scan_output = real_scan_localhost()\n",
    "if scan_output:\n",
    "    print(\"Real scan output (sample):\")\n",
    "    pprint(scan_output)\n",
    "else:\n",
    "    print(\"Real scan not available. Showing simulated scan result instead.\")\n",
    "    simulated_results = {\n",
    "        \"host\": \"127.0.0.1\",\n",
    "        \"status\": \"up\",\n",
    "        \"open_ports\": [22, 80, 443],\n",
    "        \"message\": \"Simulated scan (fallback): install nmap and retry for live results.\"\n",
    "    }\n",
    "    pprint(simulated_results)"
   ]
  },
  {
   "cell_type": "code",
   "execution_count": null,
   "id": "af208ce3-1acb-4b48-8ca9-eddab8ab88be",
   "metadata": {},
   "outputs": [],
   "source": []
  }
 ],
 "metadata": {
  "kernelspec": {
   "display_name": "Python 3 (ipykernel)",
   "language": "python",
   "name": "python3"
  },
  "language_info": {
   "codemirror_mode": {
    "name": "ipython",
    "version": 3
   },
   "file_extension": ".py",
   "mimetype": "text/x-python",
   "name": "python",
   "nbconvert_exporter": "python",
   "pygments_lexer": "ipython3",
   "version": "3.10.19"
  }
 },
 "nbformat": 4,
 "nbformat_minor": 5
}
